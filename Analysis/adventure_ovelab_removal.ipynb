{
 "cells": [
  {
   "cell_type": "code",
   "execution_count": 116,
   "id": "7fc3be01",
   "metadata": {},
   "outputs": [],
   "source": [
    "import pandas as pd\n",
    "\n",
    "# area_name_csv: 불러올 csv 파일명\n",
    "# cont_col_name: 중복 내용 검사할 컬럼명\n",
    "def overlap_removal(area_name, cont_col_name):\n",
    "    df = pd.read_csv(area_name+'.csv', encoding = 'utf-8')\n",
    "\n",
    "    # 뉴스 내용 정제\n",
    "    lst = [] # 정제된 뉴스 내용이 들어갈 리스트\n",
    "    for i in df[cont_col_name]:\n",
    "        refine = i.replace(\" \", \"\")\n",
    "        refine = refine.replace(u'\\xa0', u'')\n",
    "        lst.append(refine)\n",
    "    \n",
    "    # index:content 딕셔너리 생성\n",
    "    dict_lst = dict(zip(range(len(lst)),lst))\n",
    "    \n",
    "    # 반복문으로 중복된 뉴스 내용을 딕셔너리에서 제거 -> 제거 결과 no_overlap. no_overlap에는 중복되지 않은 뉴스 내용이 남아있다.\n",
    "    seen = []\n",
    "    no_overlap = dict()\n",
    "    for key, val in dict_lst.items():\n",
    "        if val not in seen:\n",
    "            seen.append(val)\n",
    "            no_overlap[key] = val\n",
    "    \n",
    "    # 전체 뉴스 딕셔너리 dict_lst에서 중복되지 않은 뉴스 no_overlap제거 -> 중복 뉴스만 dict_lst에 남는다.\n",
    "    for key, val in no_overlap.items():\n",
    "        dict_lst.pop(key)\n",
    "    \n",
    "    # 중복 뉴스 dict_lst의 key 값을 이용해 DataFrame에서 중복 기사 제거\n",
    "    # dict_lst 딕셔너리에는 '중복 뉴스 인덱스:중복된 뉴스 내용'이 남아있다.\n",
    "    for key, val in dict_lst.items():\n",
    "        df = df.drop(key, axis=0)\n",
    "    \n",
    "    \n",
    "    return df\n",
    "\n",
    "import openpyxl\n",
    "# df: csv 파일로 저장할 데이터 프레임\n",
    "# df_name: 파일 저장명\n",
    "# dir: 파일 저장 경로, (디폴드 경로: 'c:\\\\py_temp\\\\')\n",
    "def download_csv(df, df_name, f_dir='c:\\\\py_temp\\\\'):\n",
    "    fc_name = f_dir + '중복제거 ' + df_name + '.csv'\n",
    "    fx_name = f_dir + '중복제거 ' + df_name + '.xls'\n",
    "    \n",
    "    df.to_csv(fc_name,encoding=\"utf-8-sig\",index=False)\n",
    "    print(\" csv 파일 저장 경로: %s\" %fc_name) \n",
    "    \n",
    "    df.to_excel(fx_name , index=False , encoding=\"UTF-8\" , engine='openpyxl')\n",
    "    print(\" xls 파일 저장 경로: %s\" %fx_name) \n",
    "\n",
    "def run(area_name, cont_col_name, f_dir='c:\\\\py_temp\\\\'):\n",
    "    download_csv(overlap_removal(area_name, cont_col_name), area_name, f_dir)\n",
    "    "
   ]
  },
  {
   "cell_type": "code",
   "execution_count": 119,
   "id": "b076caad",
   "metadata": {
    "scrolled": true
   },
   "outputs": [
    {
     "name": "stdout",
     "output_type": "stream",
     "text": [
      " csv 파일 저장 경로: c:\\py_temp\\중복제거 경상북도 울릉군.csv\n",
      " xls 파일 저장 경로: c:\\py_temp\\중복제거 경상북도 울릉군.xls\n"
     ]
    }
   ],
   "source": [
    "run('경상북도 울릉군', '요약')"
   ]
  },
  {
   "cell_type": "code",
   "execution_count": 120,
   "id": "e8633e60",
   "metadata": {},
   "outputs": [
    {
     "name": "stdout",
     "output_type": "stream",
     "text": [
      " csv 파일 저장 경로: c:\\py_temp\\중복제거 전라남도 영광군.csv\n",
      " xls 파일 저장 경로: c:\\py_temp\\중복제거 전라남도 영광군.xls\n"
     ]
    }
   ],
   "source": [
    "run('전라남도 영광군', '요약')"
   ]
  },
  {
   "cell_type": "code",
   "execution_count": 121,
   "id": "7ac2b205",
   "metadata": {},
   "outputs": [
    {
     "name": "stdout",
     "output_type": "stream",
     "text": [
      " csv 파일 저장 경로: c:\\py_temp\\중복제거 전라북도 전주시 덕진구.csv\n",
      " xls 파일 저장 경로: c:\\py_temp\\중복제거 전라북도 전주시 덕진구.xls\n"
     ]
    }
   ],
   "source": [
    "run('전라북도 전주시 덕진구', '요약')"
   ]
  },
  {
   "cell_type": "code",
   "execution_count": 122,
   "id": "2ebe7bb2",
   "metadata": {},
   "outputs": [
    {
     "name": "stdout",
     "output_type": "stream",
     "text": [
      " csv 파일 저장 경로: c:\\py_temp\\중복제거 충청북도 영동군.csv\n",
      " xls 파일 저장 경로: c:\\py_temp\\중복제거 충청북도 영동군.xls\n"
     ]
    }
   ],
   "source": [
    "run('충청북도 영동군', '요약')"
   ]
  },
  {
   "cell_type": "code",
   "execution_count": 123,
   "id": "7aa96dc1",
   "metadata": {},
   "outputs": [
    {
     "name": "stdout",
     "output_type": "stream",
     "text": [
      " csv 파일 저장 경로: c:\\py_temp\\중복제거 충청북도 옥천군.csv\n",
      " xls 파일 저장 경로: c:\\py_temp\\중복제거 충청북도 옥천군.xls\n"
     ]
    }
   ],
   "source": [
    "run('충청북도 옥천군', '요약')"
   ]
  },
  {
   "cell_type": "code",
   "execution_count": 124,
   "id": "88b0d8be",
   "metadata": {},
   "outputs": [
    {
     "name": "stdout",
     "output_type": "stream",
     "text": [
      " csv 파일 저장 경로: c:\\py_temp\\중복제거 충청북도 음성군.csv\n",
      " xls 파일 저장 경로: c:\\py_temp\\중복제거 충청북도 음성군.xls\n"
     ]
    }
   ],
   "source": [
    "run('충청북도 음성군', '요약')"
   ]
  },
  {
   "cell_type": "code",
   "execution_count": 125,
   "id": "368605f9",
   "metadata": {},
   "outputs": [
    {
     "name": "stdout",
     "output_type": "stream",
     "text": [
      " csv 파일 저장 경로: c:\\py_temp\\중복제거 충청북도 청주시 상당구.csv\n",
      " xls 파일 저장 경로: c:\\py_temp\\중복제거 충청북도 청주시 상당구.xls\n"
     ]
    }
   ],
   "source": [
    "run('충청북도 청주시 상당구', '요약')"
   ]
  },
  {
   "cell_type": "code",
   "execution_count": null,
   "id": "66fa8bf2",
   "metadata": {},
   "outputs": [],
   "source": []
  }
 ],
 "metadata": {
  "kernelspec": {
   "display_name": "Python 3 (ipykernel)",
   "language": "python",
   "name": "python3"
  },
  "language_info": {
   "codemirror_mode": {
    "name": "ipython",
    "version": 3
   },
   "file_extension": ".py",
   "mimetype": "text/x-python",
   "name": "python",
   "nbconvert_exporter": "python",
   "pygments_lexer": "ipython3",
   "version": "3.8.10"
  }
 },
 "nbformat": 4,
 "nbformat_minor": 5
}
